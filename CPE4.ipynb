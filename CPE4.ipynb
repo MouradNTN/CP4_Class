{
 "cells": [
  {
   "cell_type": "code",
   "execution_count": 1,
   "id": "595dd08a",
   "metadata": {},
   "outputs": [
    {
     "name": "stdout",
     "output_type": "stream",
     "text": [
      "(2, 3, 4)\n"
     ]
    }
   ],
   "source": [
    "#Q1\n",
    "class Point3D:\n",
    "    def __init__(self,x,y,z):\n",
    "        self.x=x\n",
    "        self.y=y\n",
    "        self.z=z\n",
    "    def affiche(self):\n",
    "        affich=(self.x,self.y,self.z)\n",
    "        print(affich)\n",
    "newPoint=Point3D(2,3,4)\n",
    "newPoint.affiche()\n"
   ]
  },
  {
   "cell_type": "code",
   "execution_count": 2,
   "id": "77bb335f",
   "metadata": {},
   "outputs": [
    {
     "name": "stdout",
     "output_type": "stream",
     "text": [
      "le perimetre est  14\n",
      "la surface est  12\n"
     ]
    }
   ],
   "source": [
    "#Q2\n",
    "class rectangle:\n",
    "    def __init__(self,x,y):\n",
    "        self.width=x\n",
    "        self.height=y\n",
    "    def perimetre(self):\n",
    "        print(\"le perimetre est \",(self.width+self.height)*2)\n",
    "    def surface(self):\n",
    "        print(\"la surface est \",self.width*self.height)\n",
    "my_rectangle=rectangle(3,4)\n",
    "my_rectangle.perimetre()\n",
    "my_rectangle.surface()\n",
    "        "
   ]
  },
  {
   "cell_type": "code",
   "execution_count": 3,
   "id": "6d08f1b9",
   "metadata": {},
   "outputs": [
    {
     "name": "stdout",
     "output_type": "stream",
     "text": [
      "la surface du cercle est  50.24\n",
      "le perimetre est  25.12\n",
      "donner l abscisse de votre point A : 2\n",
      "donner l ordonne de votre point A :2\n",
      "la distance de A par rapport à 'origine du cercle est  : 2.8284271247461903\n",
      "votre point est à l'interieur du cercle\n"
     ]
    }
   ],
   "source": [
    "#Q3\n",
    "from math import sqrt \n",
    "class circle:\n",
    "    def __init__(self,x_o,y_o,r):\n",
    "        self.xorigine=x_o\n",
    "        self.yorigine=y_o\n",
    "        self.rayon=r\n",
    "    def area(self):\n",
    "        print(\"la surface du cercle est \",3.14*self.rayon*self.rayon)\n",
    "    def perim(self):\n",
    "        print(\"le perimetre est \",2*3.14*self.rayon)\n",
    "    def inside(self):\n",
    "        a=int(input(\"donner l abscisse de votre point A : \"))\n",
    "        b=int(input(\"donner l ordonne de votre point A :\"))\n",
    "        sqr_r1= (a-self.xorigine)**2+(b-self.yorigine)**2\n",
    "        print(\"la distance de A par rapport à 'origine du cercle est  :\",sqrt(sqr_r1))\n",
    "        if sqr_r1>(self.rayon)**2:\n",
    "            print(\"votre point est à l'exterieur du cercle\")\n",
    "        else:\n",
    "            print(\"votre point est à l'interieur du cercle\")\n",
    "mon_cercle=circle(0,0,4)\n",
    "mon_cercle.area()\n",
    "mon_cercle.perim()\n",
    "mon_cercle.inside()\n"
   ]
  },
  {
   "cell_type": "code",
   "execution_count": null,
   "id": "ecfc0431",
   "metadata": {},
   "outputs": [],
   "source": [
    "#Q4\n",
    "class mon_compte:\n",
    "    def __init__(self,x):\n",
    "        self.balance=x\n",
    "    def deposit(self,m_depos):\n",
    "        print(\"montant déposé est :\",m_depos)\n",
    "        print(\"le solde actuel est\",self.balance+m_depos)\n",
    "        self.balance=self.balance+m_depos\n",
    "    def withdraw(self,m_ret):\n",
    "        print(\"le solde aprés opération :\",self.balance-m_ret)\n",
    "        self.balance=self.balance-m_ret\n",
    "compte=mon_compte(100)\n",
    "compte.withdraw(10)\n",
    "compte.deposit(20)"
   ]
  }
 ],
 "metadata": {
  "kernelspec": {
   "display_name": "Python 3 (ipykernel)",
   "language": "python",
   "name": "python3"
  },
  "language_info": {
   "codemirror_mode": {
    "name": "ipython",
    "version": 3
   },
   "file_extension": ".py",
   "mimetype": "text/x-python",
   "name": "python",
   "nbconvert_exporter": "python",
   "pygments_lexer": "ipython3",
   "version": "3.9.12"
  }
 },
 "nbformat": 4,
 "nbformat_minor": 5
}
